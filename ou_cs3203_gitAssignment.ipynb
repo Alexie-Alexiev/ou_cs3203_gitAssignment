{
  "nbformat": 4,
  "nbformat_minor": 0,
  "metadata": {
    "colab": {
      "provenance": [],
      "authorship_tag": "ABX9TyPdlVOLOV6jLHOpMXodQ5K6",
      "include_colab_link": true
    },
    "kernelspec": {
      "name": "python3",
      "display_name": "Python 3"
    },
    "language_info": {
      "name": "python"
    }
  },
  "cells": [
    {
      "cell_type": "markdown",
      "metadata": {
        "id": "view-in-github",
        "colab_type": "text"
      },
      "source": [
        "<a href=\"https://colab.research.google.com/github/Alexie-Alexiev/ou_cs3203_gitAssignment/blob/main/ou_cs3203_gitAssignment.ipynb\" target=\"_parent\"><img src=\"https://colab.research.google.com/assets/colab-badge.svg\" alt=\"Open In Colab\"/></a>"
      ]
    },
    {
      "cell_type": "code",
      "execution_count": 9,
      "metadata": {
        "id": "6jIJz4KHTrrK"
      },
      "outputs": [],
      "source": [
        "def compute_sum(numbers):\n",
        "  total = 0;\n",
        "  for number in numbers:\n",
        "    total += number\n",
        "  return total\n",
        "\n",
        "def compute_product(numbers):\n",
        "  product = 1;\n",
        "  for number in numbers:\n",
        "    product *= number\n",
        "  return product\n",
        "\n",
        "def main():\n",
        "  inputNumbers = input(\"Enter a list of numbers separated by spaces: \")\n",
        "\n",
        "  numbers = [float(x) for x in inputNumbers.split()]\n",
        "\n",
        "  sumResult = compute_sum(numbers)\n",
        "  productResult = compute_product(numbers)\n",
        "\n",
        "  print(\"Sum of the numbers is:\", sumResult)\n",
        "  print(\"Product of the numbers is:\", productResult)"
      ]
    }
  ]
}