{
  "nbformat": 4,
  "nbformat_minor": 0,
  "metadata": {
    "colab": {
      "provenance": [],
      "authorship_tag": "ABX9TyMw0VJQi7/ScGC9tXQfg9sV",
      "include_colab_link": true
    },
    "kernelspec": {
      "name": "python3",
      "display_name": "Python 3"
    },
    "language_info": {
      "name": "python"
    }
  },
  "cells": [
    {
      "cell_type": "markdown",
      "metadata": {
        "id": "view-in-github",
        "colab_type": "text"
      },
      "source": [
        "<a href=\"https://colab.research.google.com/github/Alexie-Alexiev/ou_cs3203_gitAssignment/blob/part10/ou_cs3203_gitAssignment.ipynb\" target=\"_parent\"><img src=\"https://colab.research.google.com/assets/colab-badge.svg\" alt=\"Open In Colab\"/></a>"
      ]
    },
    {
      "cell_type": "code",
      "execution_count": 9,
      "metadata": {
        "id": "6jIJz4KHTrrK"
      },
      "outputs": [],
      "source": [
        "def compute_sum(numbers):\n",
        "  #computes the sum of the numbers in the list\n",
        "\n",
        "  total = 0;\n",
        "  for number in numbers:\n",
        "    total += number\n",
        "  return total\n",
        "\n",
        "def compute_product(numbers):\n",
        "  #Computes the product of the numbers in the list\n",
        "  product = 1;\n",
        "  for number in numbers:\n",
        "    product *= number\n",
        "  return product\n",
        "\n",
        "def reverse_list(numbers):\n",
        "\n",
        "  #reverses the numbers in the list\n",
        "\n",
        "  return numbers[::-1]\n",
        "\n",
        "def main():\n",
        "  inputNumbers = input(\"Enter a list of numbers separated by spaces: \")\n",
        "\n",
        "  numbers = [float(x) for x in inputNumbers.split()]\n",
        "\n",
        "  sumResult = compute_sum(numbers)\n",
        "  productResult = compute_product(numbers)\n",
        "  reversed = reverse_list(numbers)\n",
        "\n",
        "  print(\"Sum of the numbers is:\", sumResult)\n",
        "  print(\"Product of the numbers is:\", productResult)\n",
        "  print(\"The reversed list of numbers is:\", reversed)"
      ]
    }
  ]
}