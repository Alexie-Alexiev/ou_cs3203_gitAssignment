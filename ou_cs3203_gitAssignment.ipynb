{
  "nbformat": 4,
  "nbformat_minor": 0,
  "metadata": {
    "colab": {
      "provenance": [],
      "authorship_tag": "ABX9TyMVFnZwV+szFho2vwCWqWd7",
      "include_colab_link": true
    },
    "kernelspec": {
      "name": "python3",
      "display_name": "Python 3"
    },
    "language_info": {
      "name": "python"
    }
  },
  "cells": [
    {
      "cell_type": "markdown",
      "metadata": {
        "id": "view-in-github",
        "colab_type": "text"
      },
      "source": [
        "<a href=\"https://colab.research.google.com/github/Alexie-Alexiev/ou_cs3203_gitAssignment/blob/main/ou_cs3203_gitAssignment.ipynb\" target=\"_parent\"><img src=\"https://colab.research.google.com/assets/colab-badge.svg\" alt=\"Open In Colab\"/></a>"
      ]
    },
    {
      "cell_type": "code",
      "execution_count": 1,
      "metadata": {
        "id": "6jIJz4KHTrrK"
      },
      "outputs": [],
      "source": [
        "def compute_sum(numbers):\n",
        "  total = 0;\n",
        "  for number in numbers:\n",
        "    total += number\n",
        "  return total\n",
        "\n",
        "def compute_product(numbers):\n",
        "  product = 1;\n",
        "  for number in numbers:\n",
        "    product *= number\n",
        "  return product"
      ]
    }
  ]
}